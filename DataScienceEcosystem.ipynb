{
 "cells": [
  {
   "cell_type": "markdown",
   "id": "8a468029-5522-4f3c-8be7-b3db0818638a",
   "metadata": {},
   "source": [
    "# Data Science Tools and Ecosystems"
   ]
  },
  {
   "cell_type": "markdown",
   "id": "a81f9ba8-cb73-40c2-b06c-9e2b995702a3",
   "metadata": {},
   "source": [
    "#In this notebook, Data sciece tools and Ecosystems  are summarised.\n"
   ]
  },
  {
   "cell_type": "markdown",
   "id": "edb44e76-a9b6-4ee5-9be0-78113f7db15e",
   "metadata": {},
   "source": [
    "**Objectives:**\n",
    "- List popular languages for Data Science\n",
    "- List popular libraries for Data Science\n",
    "- List common data science tools\n",
    "- Evaluate simple arithmetic expressions\n",
    "- Convert minutes to hours\n"
   ]
  },
  {
   "cell_type": "markdown",
   "id": "558677e8-ee60-4270-808e-0925822f9c9a",
   "metadata": {},
   "source": [
    "Some of the popular languages that Data scientists use are :\n",
    "1. Python\n",
    "2. R\n",
    "3. SQL"
   ]
  },
  {
   "cell_type": "markdown",
   "id": "aa58bf6c-ec72-421b-a908-6e17c53c10c4",
   "metadata": {},
   "source": [
    "some of the most commonly used libraries used by Data scientists include:\n",
    "1. NumPy\n",
    "2. Pandas\n",
    "3. Scikit-learn"
   ]
  },
  {
   "cell_type": "markdown",
   "id": "7b16851f-fef0-4227-ad84-2b17c0682a5b",
   "metadata": {},
   "source": [
    "| Data Science Tools |\n",
    "|--------------------|\n",
    "| Python             |\n",
    "| R                  |\n",
    "| SQL                |\n",
    "| Jupyter Notebooks  |\n",
    "| TensorFlow         |\n",
    "| Hadoop             |\n",
    " "
   ]
  },
  {
   "cell_type": "markdown",
   "id": "ba513e1c-16d9-43ed-9ab8-e5d8d7f28280",
   "metadata": {},
   "source": [
    "### Below are a few examples of evaluating arithmetic expressions in Python.\n"
   ]
  },
  {
   "cell_type": "code",
   "execution_count": 20,
   "id": "e9341850-dfbd-4a2e-86f7-bb09c5dfae90",
   "metadata": {},
   "outputs": [
    {
     "data": {
      "text/plain": [
       "17"
      ]
     },
     "execution_count": 20,
     "metadata": {},
     "output_type": "execute_result"
    }
   ],
   "source": [
    "#  This a simple arithmetic expression to mutiply then add integers\n",
    "result=(3*4)+5\n",
    "result"
   ]
  },
  {
   "cell_type": "code",
   "execution_count": 22,
   "id": "fc78cbeb-5727-47d9-9956-0c1a6c6aa217",
   "metadata": {},
   "outputs": [
    {
     "data": {
      "text/plain": [
       "3.3333333333333335"
      ]
     },
     "execution_count": 22,
     "metadata": {},
     "output_type": "execute_result"
    }
   ],
   "source": [
    "# This will convert 200 minutes to hours by dividing by 60\n",
    "hours=200/60\n",
    "hours  "
   ]
  },
  {
   "cell_type": "markdown",
   "id": "e2bb56a6-1344-4592-b3a4-bd9f4aee643d",
   "metadata": {},
   "source": [
    "## Author\n",
    "Kristo Tom Francis"
   ]
  }
 ],
 "metadata": {
  "kernelspec": {
   "display_name": "Python [conda env:base] *",
   "language": "python",
   "name": "conda-base-py"
  },
  "language_info": {
   "codemirror_mode": {
    "name": "ipython",
    "version": 3
   },
   "file_extension": ".py",
   "mimetype": "text/x-python",
   "name": "python",
   "nbconvert_exporter": "python",
   "pygments_lexer": "ipython3",
   "version": "3.12.7"
  }
 },
 "nbformat": 4,
 "nbformat_minor": 5
}
